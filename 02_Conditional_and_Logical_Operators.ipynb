{
  "nbformat": 4,
  "nbformat_minor": 0,
  "metadata": {
    "colab": {
      "name": "02_Conditional_and_Logical_Operators.ipynb",
      "provenance": [],
      "include_colab_link": true
    },
    "kernelspec": {
      "name": "python3",
      "display_name": "Python 3"
    },
    "language_info": {
      "name": "python"
    }
  },
  "cells": [
    {
      "cell_type": "markdown",
      "metadata": {
        "id": "view-in-github",
        "colab_type": "text"
      },
      "source": [
        "<a href=\"https://colab.research.google.com/github/Sangeethadonakanti/fmml2021/blob/main/02_Conditional_and_Logical_Operators.ipynb\" target=\"_parent\"><img src=\"https://colab.research.google.com/assets/colab-badge.svg\" alt=\"Open In Colab\"/></a>"
      ]
    },
    {
      "cell_type": "code",
      "metadata": {
        "id": "d_4Xzhe4p5Jh",
        "outputId": "3b2cd87c-7da9-429e-db16-55149c8b9271",
        "colab": {
          "base_uri": "https://localhost:8080/"
        }
      },
      "source": [
        "!python --version"
      ],
      "execution_count": 1,
      "outputs": [
        {
          "output_type": "stream",
          "name": "stdout",
          "text": [
            "Python 3.7.11\n"
          ]
        }
      ]
    },
    {
      "cell_type": "markdown",
      "metadata": {
        "id": "LQ7shzxUfj6N"
      },
      "source": [
        "### Conditional and Logical Operators"
      ]
    },
    {
      "cell_type": "markdown",
      "metadata": {
        "id": "PI0fJw10fswU"
      },
      "source": [
        "#### Conditional Operators\n",
        "```\n",
        "< less than \n",
        "> greater than\n",
        "== equal to\n",
        "!= not equal to\n",
        "<= less than or equal to\n",
        ">= greater than or equal to\n",
        "```\n",
        "\n",
        "\n",
        "\n"
      ]
    },
    {
      "cell_type": "code",
      "metadata": {
        "id": "dm1hT_B9jXGu",
        "outputId": "229144d6-65d6-448e-c6b8-571dec93f2d9",
        "colab": {
          "base_uri": "https://localhost:8080/"
        }
      },
      "source": [
        "7 < 4"
      ],
      "execution_count": 2,
      "outputs": [
        {
          "output_type": "execute_result",
          "data": {
            "text/plain": [
              "False"
            ]
          },
          "metadata": {},
          "execution_count": 2
        }
      ]
    },
    {
      "cell_type": "code",
      "metadata": {
        "id": "BjHkFO4SbEhb",
        "outputId": "09d16036-949a-487d-98e8-b771448f182e",
        "colab": {
          "base_uri": "https://localhost:8080/"
        }
      },
      "source": [
        "8 > 3"
      ],
      "execution_count": 3,
      "outputs": [
        {
          "output_type": "execute_result",
          "data": {
            "text/plain": [
              "True"
            ]
          },
          "metadata": {},
          "execution_count": 3
        }
      ]
    },
    {
      "cell_type": "code",
      "metadata": {
        "id": "2DtiCXDAbISf",
        "outputId": "3f21b03d-9734-4e33-981b-0f9856ed1c88",
        "colab": {
          "base_uri": "https://localhost:8080/"
        }
      },
      "source": [
        "6 == 3"
      ],
      "execution_count": 4,
      "outputs": [
        {
          "output_type": "execute_result",
          "data": {
            "text/plain": [
              "False"
            ]
          },
          "metadata": {},
          "execution_count": 4
        }
      ]
    },
    {
      "cell_type": "code",
      "metadata": {
        "id": "4Dc_T_mUbPb1",
        "outputId": "16db7e9a-313e-4544-d1aa-0e90d38ae9ea",
        "colab": {
          "base_uri": "https://localhost:8080/"
        }
      },
      "source": [
        "5 != 5"
      ],
      "execution_count": 5,
      "outputs": [
        {
          "output_type": "execute_result",
          "data": {
            "text/plain": [
              "False"
            ]
          },
          "metadata": {},
          "execution_count": 5
        }
      ]
    },
    {
      "cell_type": "code",
      "metadata": {
        "id": "XSW7YMtabQ4E"
      },
      "source": [
        "raju_age = 83\n",
        "amar_age = 53"
      ],
      "execution_count": 8,
      "outputs": []
    },
    {
      "cell_type": "code",
      "metadata": {
        "id": "KVCzBU1xbbm0",
        "outputId": "7ddbf9c0-0946-494d-981d-b301cf87003e",
        "colab": {
          "base_uri": "https://localhost:8080/"
        }
      },
      "source": [
        "raju_age < amar_age"
      ],
      "execution_count": 9,
      "outputs": [
        {
          "output_type": "execute_result",
          "data": {
            "text/plain": [
              "False"
            ]
          },
          "metadata": {},
          "execution_count": 9
        }
      ]
    },
    {
      "cell_type": "code",
      "metadata": {
        "id": "gs2hOefnbnsF",
        "outputId": "7afbe138-a742-4381-9afd-0873e654a633",
        "colab": {
          "base_uri": "https://localhost:8080/"
        }
      },
      "source": [
        "(raju_age > amar_age)"
      ],
      "execution_count": 10,
      "outputs": [
        {
          "output_type": "execute_result",
          "data": {
            "text/plain": [
              "True"
            ]
          },
          "metadata": {},
          "execution_count": 10
        }
      ]
    },
    {
      "cell_type": "markdown",
      "metadata": {
        "id": "ifAKT3zM3_AF"
      },
      "source": [
        "#### Logical Operators\n",
        "```\n",
        "and\n",
        "or\n",
        "not\n",
        "```"
      ]
    },
    {
      "cell_type": "code",
      "metadata": {
        "id": "wy1D4AdmcVyA",
        "outputId": "e2402879-dd45-41f5-8bb7-b97e0b31c3a5",
        "colab": {
          "base_uri": "https://localhost:8080/"
        }
      },
      "source": [
        "(amar_age < 40)"
      ],
      "execution_count": 11,
      "outputs": [
        {
          "output_type": "execute_result",
          "data": {
            "text/plain": [
              "False"
            ]
          },
          "metadata": {},
          "execution_count": 11
        }
      ]
    },
    {
      "cell_type": "code",
      "metadata": {
        "id": "EeBrBGomcYEO",
        "outputId": "af41d0fd-ab82-4f7d-d51e-1d36a8c4dae7",
        "colab": {
          "base_uri": "https://localhost:8080/"
        }
      },
      "source": [
        "(raju_age > 40)"
      ],
      "execution_count": 12,
      "outputs": [
        {
          "output_type": "execute_result",
          "data": {
            "text/plain": [
              "True"
            ]
          },
          "metadata": {},
          "execution_count": 12
        }
      ]
    },
    {
      "cell_type": "code",
      "metadata": {
        "id": "O0kjtUXe4K1e",
        "outputId": "81dd6c31-4eae-4238-d5c0-31c08646c57f",
        "colab": {
          "base_uri": "https://localhost:8080/"
        }
      },
      "source": [
        "(amar_age < 40) or (raju_age > 40)"
      ],
      "execution_count": 13,
      "outputs": [
        {
          "output_type": "execute_result",
          "data": {
            "text/plain": [
              "True"
            ]
          },
          "metadata": {},
          "execution_count": 13
        }
      ]
    },
    {
      "cell_type": "code",
      "metadata": {
        "id": "fB52_Yeo0Bv-",
        "outputId": "2cf4fd59-67e6-4642-dc32-5d9ff0e6799a",
        "colab": {
          "base_uri": "https://localhost:8080/"
        }
      },
      "source": [
        "False or True"
      ],
      "execution_count": 14,
      "outputs": [
        {
          "output_type": "execute_result",
          "data": {
            "text/plain": [
              "True"
            ]
          },
          "metadata": {},
          "execution_count": 14
        }
      ]
    },
    {
      "cell_type": "code",
      "metadata": {
        "id": "mpBhFHZhcprc",
        "outputId": "21c12d04-c98c-4e10-eb9c-2f899aa0f114",
        "colab": {
          "base_uri": "https://localhost:8080/"
        }
      },
      "source": [
        "(raju_age < 40) and (amar_age > 40)"
      ],
      "execution_count": 15,
      "outputs": [
        {
          "output_type": "execute_result",
          "data": {
            "text/plain": [
              "False"
            ]
          },
          "metadata": {},
          "execution_count": 15
        }
      ]
    },
    {
      "cell_type": "code",
      "metadata": {
        "id": "mdkmh4K3ct3-",
        "outputId": "0375c156-b7c6-44da-dc27-c226041b598e",
        "colab": {
          "base_uri": "https://localhost:8080/"
        }
      },
      "source": [
        "False and True"
      ],
      "execution_count": 16,
      "outputs": [
        {
          "output_type": "execute_result",
          "data": {
            "text/plain": [
              "False"
            ]
          },
          "metadata": {},
          "execution_count": 16
        }
      ]
    },
    {
      "cell_type": "code",
      "metadata": {
        "id": "rJUB382Ecz4M",
        "outputId": "dd470003-b86e-46ef-8d3d-d19665fba3b2",
        "colab": {
          "base_uri": "https://localhost:8080/"
        }
      },
      "source": [
        "not (amar_age < 40)"
      ],
      "execution_count": 17,
      "outputs": [
        {
          "output_type": "execute_result",
          "data": {
            "text/plain": [
              "True"
            ]
          },
          "metadata": {},
          "execution_count": 17
        }
      ]
    },
    {
      "cell_type": "code",
      "metadata": {
        "id": "TknwOBHtdAPg",
        "outputId": "83514596-7033-4b8f-a322-8834a5bdc085",
        "colab": {
          "base_uri": "https://localhost:8080/"
        }
      },
      "source": [
        "not False"
      ],
      "execution_count": 19,
      "outputs": [
        {
          "output_type": "execute_result",
          "data": {
            "text/plain": [
              "True"
            ]
          },
          "metadata": {},
          "execution_count": 19
        }
      ]
    },
    {
      "cell_type": "markdown",
      "metadata": {
        "id": "vUAWMNbjiSvf"
      },
      "source": [
        "#### References"
      ]
    },
    {
      "cell_type": "markdown",
      "metadata": {
        "id": "KmpvkMmKiVcZ"
      },
      "source": [
        "1. [Python Operators](https://www.w3schools.com/python/python_operators.asp) and [Python Exercises](https://www.w3schools.com/python/exercise.asp)\n",
        "2. [Official Python Documentation](https://docs.python.org/3/tutorial/introduction.html)\n",
        "\n"
      ]
    }
  ]
}